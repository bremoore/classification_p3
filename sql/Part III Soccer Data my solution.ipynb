{
 "cells": [
  {
   "cell_type": "code",
   "execution_count": 1,
   "metadata": {
    "ExecuteTime": {
     "end_time": "2019-10-27T19:54:00.584314Z",
     "start_time": "2019-10-27T19:54:00.581855Z"
    }
   },
   "outputs": [],
   "source": [
    "import sqlite3\n"
   ]
  },
  {
   "cell_type": "code",
   "execution_count": 3,
   "metadata": {
    "ExecuteTime": {
     "end_time": "2019-10-27T20:03:45.123295Z",
     "start_time": "2019-10-27T20:03:45.120271Z"
    }
   },
   "outputs": [
    {
     "name": "stdout",
     "output_type": "stream",
     "text": [
      "Opened database successfully\n"
     ]
    }
   ],
   "source": [
    "conn = sqlite3.connect('database.sqlite')\n",
    "cursor = conn.cursor()\n",
    "print(\"Opened database successfully\")"
   ]
  },
  {
   "cell_type": "code",
   "execution_count": null,
   "metadata": {},
   "outputs": [],
   "source": []
  },
  {
   "cell_type": "markdown",
   "metadata": {},
   "source": [
    "1. Which team scored the most points when playing at home?  "
   ]
  },
  {
   "cell_type": "markdown",
   "metadata": {},
   "source": [
    "REAL Madrid"
   ]
  },
  {
   "cell_type": "code",
   "execution_count": 6,
   "metadata": {
    "ExecuteTime": {
     "end_time": "2019-10-27T21:33:33.911586Z",
     "start_time": "2019-10-27T21:33:33.870505Z"
    }
   },
   "outputs": [
    {
     "data": {
      "text/plain": [
       "<sqlite3.Cursor at 0x112a3e960>"
      ]
     },
     "execution_count": 6,
     "metadata": {},
     "output_type": "execute_result"
    }
   ],
   "source": [
    "cursor.execute(\"\"\"SELECT team.team_long_name, team_id, sum(home_goals) as home_goals_sum\n",
    "FROM(\n",
    "SELECT match.home_team_api_id as team_id, SUM(match.home_team_goal) AS home_goals\n",
    "FROM Match\n",
    "GROUP BY team_id\n",
    ")\n",
    "LEFT JOIN\n",
    "Team\n",
    "ON team_id =Team.team_api_id\n",
    "GROUP BY team_id\n",
    "ORDER BY home_goals_sum DESC\n",
    "LIMIT 1;\"\"\")"
   ]
  },
  {
   "cell_type": "code",
   "execution_count": 7,
   "metadata": {
    "ExecuteTime": {
     "end_time": "2019-10-27T21:33:35.025348Z",
     "start_time": "2019-10-27T21:33:35.021743Z"
    }
   },
   "outputs": [
    {
     "data": {
      "text/plain": [
       "('Real Madrid CF', 8633, 505)"
      ]
     },
     "execution_count": 7,
     "metadata": {},
     "output_type": "execute_result"
    }
   ],
   "source": [
    "cursor.fetchone()"
   ]
  },
  {
   "cell_type": "markdown",
   "metadata": {},
   "source": [
    "2. Did this team also score the most points when playing away?  "
   ]
  },
  {
   "cell_type": "markdown",
   "metadata": {},
   "source": [
    "NO. FC Barcelona has the most away goals"
   ]
  },
  {
   "cell_type": "code",
   "execution_count": 8,
   "metadata": {
    "ExecuteTime": {
     "end_time": "2019-10-27T21:36:15.518100Z",
     "start_time": "2019-10-27T21:36:15.477963Z"
    }
   },
   "outputs": [],
   "source": [
    "cursor.execute(\"\"\"SELECT team.team_long_name, team_id, SUM(away_goals) as away_goals_sum\n",
    "FROM(\n",
    "SELECT match.away_team_api_id as team_id, SUM(match.away_team_goal) AS away_goals\n",
    "FROM Match\n",
    "GROUP BY team_id\n",
    ")\n",
    "LEFT JOIN\n",
    "team\n",
    "ON team_id = team.team_api_id\n",
    "GROUP BY team_id\n",
    "ORDER BY away_goals_sum DESC\n",
    "LIMIT 1;\"\"\"\n",
    ")"
   ]
  },
  {
   "cell_type": "code",
   "execution_count": 9,
   "metadata": {
    "ExecuteTime": {
     "end_time": "2019-10-27T21:36:28.021477Z",
     "start_time": "2019-10-27T21:36:28.017780Z"
    }
   },
   "outputs": [
    {
     "data": {
      "text/plain": [
       "('FC Barcelona', 8634, 354)"
      ]
     },
     "execution_count": 9,
     "metadata": {},
     "output_type": "execute_result"
    }
   ],
   "source": [
    "cursor.fetchone()"
   ]
  },
  {
   "cell_type": "markdown",
   "metadata": {},
   "source": [
    "3. How many matches resulted in a tie?  "
   ]
  },
  {
   "cell_type": "markdown",
   "metadata": {},
   "source": [
    "6596"
   ]
  },
  {
   "cell_type": "code",
   "execution_count": 10,
   "metadata": {
    "ExecuteTime": {
     "end_time": "2019-10-27T21:40:35.666657Z",
     "start_time": "2019-10-27T21:40:35.630996Z"
    }
   },
   "outputs": [
    {
     "data": {
      "text/plain": [
       "<sqlite3.Cursor at 0x112a3e960>"
      ]
     },
     "execution_count": 10,
     "metadata": {},
     "output_type": "execute_result"
    }
   ],
   "source": [
    "cursor.execute(\"\"\"SELECT count(*)  as matches_resulting_in_tie\n",
    "FROM Match\n",
    "WHERE match.home_team_goal = match.away_team_goal;\"\"\")"
   ]
  },
  {
   "cell_type": "code",
   "execution_count": 11,
   "metadata": {
    "ExecuteTime": {
     "end_time": "2019-10-27T21:40:43.424643Z",
     "start_time": "2019-10-27T21:40:43.421589Z"
    }
   },
   "outputs": [
    {
     "data": {
      "text/plain": [
       "(6596,)"
      ]
     },
     "execution_count": 11,
     "metadata": {},
     "output_type": "execute_result"
    }
   ],
   "source": [
    "cursor.fetchone()"
   ]
  },
  {
   "cell_type": "markdown",
   "metadata": {},
   "source": [
    "4. How many players have Smith for their last name? How many have 'smith' anywhere in their name?"
   ]
  },
  {
   "cell_type": "markdown",
   "metadata": {},
   "source": [
    "15 players with \"Smith\" in last name. 15 players with \"Smith\" anywhere in their name."
   ]
  },
  {
   "cell_type": "code",
   "execution_count": 12,
   "metadata": {
    "ExecuteTime": {
     "end_time": "2019-10-27T21:56:45.876844Z",
     "start_time": "2019-10-27T21:56:45.873623Z"
    }
   },
   "outputs": [
    {
     "data": {
      "text/plain": [
       "<sqlite3.Cursor at 0x112a3e960>"
      ]
     },
     "execution_count": 12,
     "metadata": {},
     "output_type": "execute_result"
    }
   ],
   "source": [
    "cursor.execute(\"\"\"SELECT player.player_name FROM player;\"\"\"\n",
    ")\n"
   ]
  },
  {
   "cell_type": "code",
   "execution_count": 13,
   "metadata": {
    "ExecuteTime": {
     "end_time": "2019-10-27T21:56:47.893528Z",
     "start_time": "2019-10-27T21:56:47.875225Z"
    }
   },
   "outputs": [],
   "source": [
    "rows = cursor.fetchall()\n"
   ]
  },
  {
   "cell_type": "code",
   "execution_count": 27,
   "metadata": {
    "ExecuteTime": {
     "end_time": "2019-10-27T22:07:09.879450Z",
     "start_time": "2019-10-27T22:07:09.875993Z"
    }
   },
   "outputs": [
    {
     "data": {
      "text/plain": [
       "'Aaron Appindangoye'"
      ]
     },
     "execution_count": 27,
     "metadata": {},
     "output_type": "execute_result"
    }
   ],
   "source": [
    "rows[0][0]"
   ]
  },
  {
   "cell_type": "code",
   "execution_count": 31,
   "metadata": {
    "ExecuteTime": {
     "end_time": "2019-10-27T22:08:16.838833Z",
     "start_time": "2019-10-27T22:08:16.827803Z"
    }
   },
   "outputs": [
    {
     "data": {
      "text/plain": [
       "15"
      ]
     },
     "execution_count": 31,
     "metadata": {},
     "output_type": "execute_result"
    }
   ],
   "source": [
    "last_name_smith_count = 0\n",
    "for name in rows:\n",
    "    names = name[0].lower().split(' ')\n",
    "    if names[len(names) - 1] == \"smith\":\n",
    "        last_name_smith_count += 1\n",
    "last_name_smith_count"
   ]
  },
  {
   "cell_type": "code",
   "execution_count": 33,
   "metadata": {
    "ExecuteTime": {
     "end_time": "2019-10-27T22:10:20.398491Z",
     "start_time": "2019-10-27T22:10:20.387825Z"
    }
   },
   "outputs": [
    {
     "data": {
      "text/plain": [
       "15"
      ]
     },
     "execution_count": 33,
     "metadata": {},
     "output_type": "execute_result"
    }
   ],
   "source": [
    "smith_name_count = 0\n",
    "for name in rows:\n",
    "    names = name[0].lower().split(' ')\n",
    "    if \"smith\" in names:\n",
    "        smith_name_count += 1\n",
    "smith_name_count"
   ]
  },
  {
   "cell_type": "markdown",
   "metadata": {},
   "source": [
    "5. What was the median tie score?"
   ]
  },
  {
   "cell_type": "markdown",
   "metadata": {},
   "source": [
    "3"
   ]
  },
  {
   "cell_type": "code",
   "execution_count": 44,
   "metadata": {
    "ExecuteTime": {
     "end_time": "2019-10-27T23:28:55.259730Z",
     "start_time": "2019-10-27T23:28:55.223870Z"
    }
   },
   "outputs": [
    {
     "data": {
      "text/plain": [
       "<sqlite3.Cursor at 0x112a3e960>"
      ]
     },
     "execution_count": 44,
     "metadata": {},
     "output_type": "execute_result"
    }
   ],
   "source": [
    "cursor.execute(\"\"\"\n",
    "SELECT COUNT(goal_count)  as num_rows, SUM(goal_count) as total_goals_from_rows\n",
    "FROM (\n",
    "SELECT home_team_goal as goal_count,  count(*)  as matches_resulting_in_tie \n",
    "FROM Match\n",
    "WHERE match.home_team_goal = match.away_team_goal\n",
    "GROUP BY goal_count\n",
    "ORDER BY goal_count);\"\"\"\n",
    ")"
   ]
  },
  {
   "cell_type": "code",
   "execution_count": 45,
   "metadata": {
    "ExecuteTime": {
     "end_time": "2019-10-27T23:28:56.814675Z",
     "start_time": "2019-10-27T23:28:56.812161Z"
    }
   },
   "outputs": [],
   "source": [
    "row = cursor.fetchall() "
   ]
  },
  {
   "cell_type": "code",
   "execution_count": 46,
   "metadata": {
    "ExecuteTime": {
     "end_time": "2019-10-27T23:28:57.315424Z",
     "start_time": "2019-10-27T23:28:57.312342Z"
    }
   },
   "outputs": [
    {
     "data": {
      "text/plain": [
       "[(7, 21)]"
      ]
     },
     "execution_count": 46,
     "metadata": {},
     "output_type": "execute_result"
    }
   ],
   "source": [
    "row"
   ]
  },
  {
   "cell_type": "code",
   "execution_count": 50,
   "metadata": {
    "ExecuteTime": {
     "end_time": "2019-10-27T23:31:01.971116Z",
     "start_time": "2019-10-27T23:31:01.939828Z"
    }
   },
   "outputs": [
    {
     "data": {
      "text/plain": [
       "<sqlite3.Cursor at 0x112a3e960>"
      ]
     },
     "execution_count": 50,
     "metadata": {},
     "output_type": "execute_result"
    }
   ],
   "source": [
    "cursor.execute(f\"\"\"SELECT goal_count\n",
    "FROM\n",
    "(\n",
    "SELECT home_team_goal as goal_count,  count(*)  as matches_resulting_in_tie\n",
    "FROM Match\n",
    "WHERE match.home_team_goal = match.away_team_goal\n",
    "GROUP BY goal_count\n",
    "ORDER BY goal_count\n",
    ")\n",
    "WHERE goal_count = {row[0][1]}/{row[0][0]}\n",
    "GROUP BY goal_count;\"\"\")"
   ]
  },
  {
   "cell_type": "code",
   "execution_count": 51,
   "metadata": {
    "ExecuteTime": {
     "end_time": "2019-10-27T23:31:03.520285Z",
     "start_time": "2019-10-27T23:31:03.516960Z"
    }
   },
   "outputs": [
    {
     "data": {
      "text/plain": [
       "[(3,)]"
      ]
     },
     "execution_count": 51,
     "metadata": {},
     "output_type": "execute_result"
    }
   ],
   "source": [
    "cursor.fetchall()"
   ]
  },
  {
   "cell_type": "markdown",
   "metadata": {},
   "source": [
    "6. What percentage of players prefer their left or right foot?"
   ]
  },
  {
   "cell_type": "markdown",
   "metadata": {},
   "source": [
    "left ~= 24% , right ~= 75%"
   ]
  },
  {
   "cell_type": "code",
   "execution_count": 56,
   "metadata": {
    "ExecuteTime": {
     "end_time": "2019-10-27T23:38:35.751621Z",
     "start_time": "2019-10-27T23:38:35.723910Z"
    }
   },
   "outputs": [
    {
     "data": {
      "text/plain": [
       "<sqlite3.Cursor at 0x112a3e960>"
      ]
     },
     "execution_count": 56,
     "metadata": {},
     "output_type": "execute_result"
    }
   ],
   "source": [
    "cursor.execute(\"\"\"SELECT COUNT(*) as total_players\n",
    "FROM Player_Attributes;\"\"\")"
   ]
  },
  {
   "cell_type": "code",
   "execution_count": 57,
   "metadata": {
    "ExecuteTime": {
     "end_time": "2019-10-27T23:38:37.095262Z",
     "start_time": "2019-10-27T23:38:37.092898Z"
    }
   },
   "outputs": [],
   "source": [
    "total_player_count = cursor.fetchall()"
   ]
  },
  {
   "cell_type": "code",
   "execution_count": 58,
   "metadata": {
    "ExecuteTime": {
     "end_time": "2019-10-27T23:38:37.612997Z",
     "start_time": "2019-10-27T23:38:37.610023Z"
    }
   },
   "outputs": [
    {
     "data": {
      "text/plain": [
       "[(183978,)]"
      ]
     },
     "execution_count": 58,
     "metadata": {},
     "output_type": "execute_result"
    }
   ],
   "source": [
    "total_player_count"
   ]
  },
  {
   "cell_type": "code",
   "execution_count": 64,
   "metadata": {
    "ExecuteTime": {
     "end_time": "2019-10-27T23:39:33.539402Z",
     "start_time": "2019-10-27T23:39:33.497072Z"
    }
   },
   "outputs": [
    {
     "data": {
      "text/plain": [
       "<sqlite3.Cursor at 0x112a3e960>"
      ]
     },
     "execution_count": 64,
     "metadata": {},
     "output_type": "execute_result"
    }
   ],
   "source": [
    "cursor.execute(\"\"\"SELECT COUNT(Player_Attributes.preferred_foot) as left_footed_count\n",
    "FROM Player_Attributes\n",
    "WHERE Player_Attributes.preferred_foot = 'left';\"\"\")"
   ]
  },
  {
   "cell_type": "code",
   "execution_count": 65,
   "metadata": {
    "ExecuteTime": {
     "end_time": "2019-10-27T23:39:34.118142Z",
     "start_time": "2019-10-27T23:39:34.115776Z"
    }
   },
   "outputs": [],
   "source": [
    "left_footed_count = cursor.fetchall()"
   ]
  },
  {
   "cell_type": "code",
   "execution_count": 69,
   "metadata": {
    "ExecuteTime": {
     "end_time": "2019-10-27T23:39:52.495716Z",
     "start_time": "2019-10-27T23:39:52.492341Z"
    }
   },
   "outputs": [
    {
     "data": {
      "text/plain": [
       "0.24314320190457556"
      ]
     },
     "execution_count": 69,
     "metadata": {},
     "output_type": "execute_result"
    }
   ],
   "source": [
    "left_footed_count[0][0] / total_player_count[0][0]"
   ]
  },
  {
   "cell_type": "code",
   "execution_count": 70,
   "metadata": {
    "ExecuteTime": {
     "end_time": "2019-10-27T23:40:14.230890Z",
     "start_time": "2019-10-27T23:40:14.185858Z"
    }
   },
   "outputs": [],
   "source": [
    "cursor.execute(\"\"\"SELECT COUNT(Player_Attributes.preferred_foot) as right_footed_count\n",
    "FROM Player_Attributes\n",
    "WHERE Player_Attributes.preferred_foot = 'right';\"\"\");"
   ]
  },
  {
   "cell_type": "code",
   "execution_count": 71,
   "metadata": {
    "ExecuteTime": {
     "end_time": "2019-10-27T23:40:14.953270Z",
     "start_time": "2019-10-27T23:40:14.951033Z"
    }
   },
   "outputs": [],
   "source": [
    "right_footed_count = cursor.fetchall()"
   ]
  },
  {
   "cell_type": "code",
   "execution_count": 72,
   "metadata": {
    "ExecuteTime": {
     "end_time": "2019-10-27T23:40:26.043723Z",
     "start_time": "2019-10-27T23:40:26.040420Z"
    }
   },
   "outputs": [
    {
     "data": {
      "text/plain": [
       "0.7523127765276283"
      ]
     },
     "execution_count": 72,
     "metadata": {},
     "output_type": "execute_result"
    }
   ],
   "source": [
    "right_footed_count[0][0] / total_player_count[0][0]"
   ]
  },
  {
   "cell_type": "code",
   "execution_count": null,
   "metadata": {},
   "outputs": [],
   "source": []
  }
 ],
 "metadata": {
  "hide_input": false,
  "kernelspec": {
   "display_name": "Python 3",
   "language": "python",
   "name": "python3"
  },
  "language_info": {
   "codemirror_mode": {
    "name": "ipython",
    "version": 3
   },
   "file_extension": ".py",
   "mimetype": "text/x-python",
   "name": "python",
   "nbconvert_exporter": "python",
   "pygments_lexer": "ipython3",
   "version": "3.7.3"
  },
  "toc": {
   "base_numbering": 1,
   "nav_menu": {},
   "number_sections": true,
   "sideBar": true,
   "skip_h1_title": false,
   "title_cell": "Table of Contents",
   "title_sidebar": "Contents",
   "toc_cell": false,
   "toc_position": {},
   "toc_section_display": true,
   "toc_window_display": false
  }
 },
 "nbformat": 4,
 "nbformat_minor": 2
}
